{
 "cells": [
  {
   "cell_type": "code",
   "execution_count": 4,
   "id": "aba886a8-159c-474c-9a4b-121025880a68",
   "metadata": {},
   "outputs": [],
   "source": [
    "# Call the packages\n",
    "using Random"
   ]
  },
  {
   "cell_type": "code",
   "execution_count": 5,
   "id": "2613a431-c3ba-4104-ac00-83ed9c07c39b",
   "metadata": {},
   "outputs": [
    {
     "data": {
      "text/plain": [
       "0.7"
      ]
     },
     "execution_count": 5,
     "metadata": {},
     "output_type": "execute_result"
    }
   ],
   "source": [
    "# Number of coin toss \n",
    "N = 10\n",
    "\n",
    "# Probability of head\n",
    "p = 0.7\n"
   ]
  },
  {
   "cell_type": "code",
   "execution_count": 65,
   "id": "d3d265d7-9292-4b59-9e7d-91aa75c6bd3f",
   "metadata": {
    "editable": true,
    "slideshow": {
     "slide_type": ""
    },
    "tags": []
   },
   "outputs": [
    {
     "name": "stdout",
     "output_type": "stream",
     "text": [
      "The result of 10 coin tosses: H H H T T H H H T H\n",
      "Number of Heads: 7\n"
     ]
    }
   ],
   "source": [
    "# count of Heads in N coin tosses\n",
    "H_count = 0\n",
    "\n",
    "# The sequence of Head and Tail\n",
    "toss_result = String[]\n",
    "\n",
    "# Generate uniformly distributed random numbers\n",
    "U = rand(N)\n",
    "\n",
    "# loop over N coin tosses\n",
    "for j in 1:N\n",
    "\n",
    "    # decide H or T\n",
    "    if U[j] <= p\n",
    "        # It is a Head\n",
    "        H_count = H_count + 1\n",
    "        push!(toss_result, \"H\")\n",
    "    else\n",
    "        push!(toss_result, \"T\")\n",
    "    end\n",
    "end\n",
    "\n",
    "println(\"The result of \", N, \" coin tosses: \", join(toss_result, \" \")) \n",
    "println(\"Number of Heads: \", H_count)\n"
   ]
  }
 ],
 "metadata": {
  "kernelspec": {
   "display_name": "Julia 1.11.1",
   "language": "julia",
   "name": "julia-1.11"
  },
  "language_info": {
   "file_extension": ".jl",
   "mimetype": "application/julia",
   "name": "julia",
   "version": "1.11.1"
  }
 },
 "nbformat": 4,
 "nbformat_minor": 5
}
